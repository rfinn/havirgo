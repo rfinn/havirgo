{
 "cells": [
  {
   "cell_type": "markdown",
   "metadata": {},
   "source": [
    "# Paper Outline\n",
    "\n",
    "* Present observations and data reduction\n",
    "* size of halpha vs stellar mass\n",
    "  * compare with Lizhi models\n",
    "  \n",
    "* size ratio vs gas properties for CO and HI galaxies\n",
    "\n"
   ]
  },
  {
   "cell_type": "code",
   "execution_count": 1,
   "metadata": {},
   "outputs": [],
   "source": [
    "%run ~/github/Virgo/programs/readtablesv2.py"
   ]
  },
  {
   "cell_type": "code",
   "execution_count": 2,
   "metadata": {},
   "outputs": [
    {
     "data": {
      "text/plain": [
       "['VFID',\n",
       " 'RAgas',\n",
       " 'DECgas',\n",
       " 'COreference',\n",
       " 'alphaCO',\n",
       " 'Mmol',\n",
       " 'Mmol_err_up',\n",
       " 'Mmol_err_down',\n",
       " 'r21',\n",
       " 'err_r21',\n",
       " 'tdep',\n",
       " 'tdep_err_up',\n",
       " 'tdep_err_down',\n",
       " 'HIreference',\n",
       " 'MHI',\n",
       " 'MHI_err_up',\n",
       " 'MHI_err_down',\n",
       " 'MH2_to_MHI',\n",
       " 'MH2_to_MHI_err_up',\n",
       " 'MH2_to_MHI_err_down',\n",
       " 'H2def',\n",
       " 'errH2def',\n",
       " 'HIdef',\n",
       " 'errHIdef',\n",
       " 'Separation']"
      ]
     },
     "execution_count": 2,
     "metadata": {},
     "output_type": "execute_result"
    }
   ],
   "source": [
    "v.co.colnames"
   ]
  },
  {
   "cell_type": "markdown",
   "metadata": {},
   "source": [
    "## Filters\n"
   ]
  },
  {
   "cell_type": "code",
   "execution_count": null,
   "metadata": {},
   "outputs": [],
   "source": []
  },
  {
   "cell_type": "markdown",
   "metadata": {},
   "source": [
    "## Overview of Sample\n",
    "\n"
   ]
  },
  {
   "cell_type": "code",
   "execution_count": null,
   "metadata": {},
   "outputs": [],
   "source": []
  },
  {
   "cell_type": "code",
   "execution_count": null,
   "metadata": {},
   "outputs": [],
   "source": []
  },
  {
   "cell_type": "markdown",
   "metadata": {},
   "source": [
    "# Color - SFR\n",
    "\n",
    "are there blue galaxies with no current SF?\n",
    "\n"
   ]
  },
  {
   "cell_type": "code",
   "execution_count": null,
   "metadata": {},
   "outputs": [],
   "source": []
  },
  {
   "cell_type": "code",
   "execution_count": null,
   "metadata": {},
   "outputs": [],
   "source": []
  },
  {
   "cell_type": "markdown",
   "metadata": {},
   "source": [
    "# Sizes"
   ]
  },
  {
   "cell_type": "code",
   "execution_count": 4,
   "metadata": {
    "collapsed": true,
    "jupyter": {
     "outputs_hidden": true
    }
   },
   "outputs": [
    {
     "data": {
      "text/plain": [
       "['VFID',\n",
       " 'AGC',\n",
       " 'Name',\n",
       " 'OrigSrcName',\n",
       " 'HISrcName',\n",
       " 'RAdeg_HI',\n",
       " 'DECdeg_HI',\n",
       " 'RAdeg_OC',\n",
       " 'DECdeg_OC',\n",
       " 'RAdeg_Use',\n",
       " 'DECdeg_Use',\n",
       " 'Vhelio',\n",
       " 'sigV',\n",
       " 'W50',\n",
       " 'sigWtot',\n",
       " 'sigWstat',\n",
       " 'W20',\n",
       " 'HIflux',\n",
       " 'sigflux',\n",
       " 'SNR',\n",
       " 'RMS',\n",
       " 'Dist',\n",
       " 'sigdist',\n",
       " 'logMH',\n",
       " 'siglogMH',\n",
       " 'HIcode',\n",
       " 'HIdef',\n",
       " 'HIdef_flag',\n",
       " 'HIdef_bos',\n",
       " 'HIdef_jon',\n",
       " 'HIdef_bytype',\n",
       " 'logMstarTaylor',\n",
       " 'modelMag_u',\n",
       " 'modelMag_g',\n",
       " 'modelMag_r',\n",
       " 'modelMag_i',\n",
       " 'modelMag_z',\n",
       " 'modelMagErr_u',\n",
       " 'modelMagErr_g',\n",
       " 'modelMagErr_r',\n",
       " 'modelMagErr_i',\n",
       " 'modelMagErr_z',\n",
       " 'cModelMag_u',\n",
       " 'cModelMag_g',\n",
       " 'cModelMag_r',\n",
       " 'cModelMag_i',\n",
       " 'cModelMag_z',\n",
       " 'cModelMagErr_u',\n",
       " 'cModelMagErr_g',\n",
       " 'cModelMagErr_r',\n",
       " 'cModelMagErr_i',\n",
       " 'cModelMagErr_z',\n",
       " 'petroMag_u',\n",
       " 'petroMag_g',\n",
       " 'petroMag_r',\n",
       " 'petroMag_i',\n",
       " 'petroMag_z',\n",
       " 'petroMagErr_u',\n",
       " 'petroMagErr_g',\n",
       " 'petroMagErr_r',\n",
       " 'petroMagErr_i',\n",
       " 'petroMagErr_z',\n",
       " 'petroRad_u',\n",
       " 'petroRad_g',\n",
       " 'petroRad_r',\n",
       " 'petroRad_i',\n",
       " 'petroRad_z',\n",
       " 'petroR50_g',\n",
       " 'petroR50_r',\n",
       " 'petroR50_i',\n",
       " 'petroR90_g',\n",
       " 'petroR90_r',\n",
       " 'petroR90_i',\n",
       " 'extinction_u',\n",
       " 'extinction_g',\n",
       " 'extinction_r',\n",
       " 'extinction_i',\n",
       " 'extinction_z',\n",
       " 'expAB_g',\n",
       " 'expAB_r',\n",
       " 'expAB_i',\n",
       " 'expMag_g',\n",
       " 'expMag_r',\n",
       " 'expMag_i',\n",
       " 'type_2',\n",
       " 'expRad_g',\n",
       " 'expRad_r',\n",
       " 'expRad_i',\n",
       " 'photoID',\n",
       " 'spectID',\n",
       " 'sdss_z',\n",
       " 'absMag_g',\n",
       " 'absMag_i',\n",
       " 'gmag_corr',\n",
       " 'imag_corr',\n",
       " 'gmi_corr',\n",
       " 'absMag_g_corr',\n",
       " 'absMag_i_corr',\n",
       " 'gmi_no_int',\n",
       " 'photFlag_gi']"
      ]
     },
     "execution_count": 4,
     "metadata": {},
     "output_type": "execute_result"
    }
   ],
   "source": [
    "v.a100.colnames"
   ]
  },
  {
   "cell_type": "code",
   "execution_count": null,
   "metadata": {},
   "outputs": [],
   "source": []
  },
  {
   "cell_type": "markdown",
   "metadata": {},
   "source": [
    "## Size vs CO and HI def"
   ]
  },
  {
   "cell_type": "code",
   "execution_count": null,
   "metadata": {},
   "outputs": [],
   "source": []
  }
 ],
 "metadata": {
  "kernelspec": {
   "display_name": "Python 3",
   "language": "python",
   "name": "python3"
  },
  "language_info": {
   "codemirror_mode": {
    "name": "ipython",
    "version": 3
   },
   "file_extension": ".py",
   "mimetype": "text/x-python",
   "name": "python",
   "nbconvert_exporter": "python",
   "pygments_lexer": "ipython3",
   "version": "3.8.5"
  }
 },
 "nbformat": 4,
 "nbformat_minor": 4
}
