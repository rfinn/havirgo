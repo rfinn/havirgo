{
 "cells": [
  {
   "cell_type": "code",
   "execution_count": 1,
   "metadata": {},
   "outputs": [],
   "source": [
    "from matplotlib import pyplot as plt\n",
    "import numpy as np\n",
    "import os"
   ]
  },
  {
   "cell_type": "markdown",
   "metadata": {},
   "source": [
    "# Goal\n",
    "\n",
    "want to make plot showing lines of constant pressure, and then indicate pressure needed for truncated galaxies."
   ]
  },
  {
   "cell_type": "code",
   "execution_count": 11,
   "metadata": {},
   "outputs": [
    {
     "data": {
      "text/plain": [
       "[<matplotlib.lines.Line2D at 0x7ff398972df0>]"
      ]
     },
     "execution_count": 11,
     "metadata": {},
     "output_type": "execute_result"
    },
    {
     "data": {
      "image/png": "[encoded data removed]",
      "text/plain": [
       "<Figure size 432x288 with 1 Axes>"
      ]
     },
     "metadata": {
      "needs_background": "light"
     },
     "output_type": "display_data"
    }
   ],
   "source": [
    "plt.figure()\n",
    "\n",
    "P = 1.7e-11 #dyne/cm2\n",
    "v = np.linspace(100,1000,100)\n",
    "rho = P/v**2\n",
    "\n",
    "plt.plot(v,rho)\n",
    "plt.xlabel(\"Velocity (km/s)\")\n",
    "plt.ylabel(\"Density\")"
   ]
  },
  {
   "cell_type": "markdown",
   "metadata": {},
   "source": [
    "# RPS\n",
    "\n",
    "$$ F/A = 2 \\pi \\Sigma_\\star \\Sigma_{gas} $$\n",
    "\n",
    "* Rd = disk scale length\n",
    "* assume Rgas = 1.7 Rd (Jaffee)\n",
    "\n",
    "Profile of the disk\n",
    "\n",
    "$$ \\Sigma_\\star (r) = \\frac{M_\\star}{2 \\pi r_d^2} e^{-r/r_d} $$\n",
    "\n",
    "$$ \\Sigma_{gas} (r) = \\frac{M_{gas}}{2 \\pi r_{gas}^2} e^{-r/(1.7 r_d)} $$\n",
    "\n",
    "So we need to know:\n",
    "\n",
    "* $r_d$ - same as R50? or is $R50 = 1.67* R_d$\n",
    "\n",
    "* mass within r_d\n",
    "\n",
    "* mass observed = \n",
    "\n",
    "$$ \\int_0^{rt} M(r) =  \\frac{M_{gas}(tot)}{2 \\pi r_{gas}^2} \\int_0^{rt} exp(-r/r_{gas})2 \\pi r dr $$\n",
    "\n",
    "so \n",
    "\n",
    "$$ \\frac{M_{gas}(tot)}{2 \\pi r_{gas}^2} = \\frac{ M_{gas}(obs)}{\\int_0^{rt} exp(-r/r_{gas}) 2 \\pi r dr }$$\n",
    "\n",
    "$$ \\frac{M_{gas}(tot)}{2 \\pi r_{gas}^2} = \\frac{M_{gas}(obs)}{ 2\\pi  \\int_0^{rt} exp(-r/r_{gas})  r dr }$$\n",
    "\n",
    "$$\\int x e^{-x = -xe^{-x} - e^{-x} $$\n",
    "\n",
    "$$\\int_0^{rt} exp(-r/r_{gas})  r dr $$\n",
    "\n",
    "$$\\int u dv = u v - \\int v du $$\n",
    "\n",
    "$$u = r$$\n",
    "\n",
    "$$dv = e^{-r/r_g}$$\n",
    "\n",
    "$$ v = -{r_g} e^{-r/r_g}$$\n",
    "\n",
    "$$ \\int v du = -{r_g} \\int e^{-r/r_g} = {r_g^2}  e^{-r/r_g}$$\n",
    "\n",
    "\n",
    "$$\\int_0^{rt} exp(-r/r_{gas})  r dr = -r {r_g} e^{-r/r_g} - {r_g^2}  e^{-r/r_g}   $$\n",
    "\n",
    "\n",
    "$$\\int_0^{rt} exp(r/r_{gas})  r dr = -r_t {r_g} e^{-r_t/r_g} - {r_g^2}  e^{-r_t/r_g} - (- 0 {r_g} e^{-0/r_g} - {r_g^2}  e^{-0/r_g})  $$\n",
    "\n",
    "\n",
    "$$\\int_0^{rt} exp(r/r_{gas})  r dr = -r_t {r_g} e^{-r_t/r_g} - {r_g^2}  e^{-r_t/r_g} +   {r_g^2}   $$\n",
    "\n",
    "\n",
    "\n",
    "\n",
    "\n",
    "$$ \\frac{M_{gas}(tot)}{2 \\pi r_{gas}^2} = \\frac{M_{gas}(obs)}{ 2\\pi(r_t {r_g} e^{-r_t/r_g} - {r_g^2}  e^{-r_t/r_g} +   {r_g^2}) }  $$\n",
    "\n",
    "$$ \\frac{M_{gas}(tot)}{2 \\pi r_{gas}^2} = \\frac{M_{gas}(obs)}{ 2\\pi{r_g}((r_t-r_g)  e^{-r_t/r_g} +   {r_g}) }  $$\n",
    "\n",
    "\n",
    "\n",
    "### Scale length vs Half Light Radius\n",
    "\n",
    "The radius that encloses half the light is the effective radius.\n",
    "\n",
    "$R_{50} = 1.7 R_d $\n",
    "\n",
    "$ R_d = 0.60 R_{50}$\n",
    "\n",
    "I have $R_{50}$ for each galaxy.  \n",
    "\n",
    "So I need to correct $\\Sigma_\\star$ by $e^{-r_t/r_d}$.  "
   ]
  },
  {
   "cell_type": "code",
   "execution_count": 2,
   "metadata": {},
   "outputs": [
    {
     "data": {
      "text/plain": [
       "0.5988023952095809"
      ]
     },
     "execution_count": 2,
     "metadata": {},
     "output_type": "execute_result"
    }
   ],
   "source": [
    "1/1.67"
   ]
  },
  {
   "cell_type": "code",
   "execution_count": null,
   "metadata": {},
   "outputs": [],
   "source": []
  }
 ],
 "metadata": {
  "kernelspec": {
   "display_name": "Python 3",
   "language": "python",
   "name": "python3"
  },
  "language_info": {
   "codemirror_mode": {
    "name": "ipython",
    "version": 3
   },
   "file_extension": ".py",
   "mimetype": "text/x-python",
   "name": "python",
   "nbconvert_exporter": "python",
   "pygments_lexer": "ipython3",
   "version": "3.8.5"
  }
 },
 "nbformat": 4,
 "nbformat_minor": 4
}
