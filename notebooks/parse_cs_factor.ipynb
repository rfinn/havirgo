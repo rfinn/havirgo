{
 "cells": [
  {
   "cell_type": "code",
   "execution_count": 98,
   "metadata": {},
   "outputs": [],
   "source": [
    "import os\n",
    "from astropy.table import Table\n",
    "from matplotlib import pyplot as plt\n",
    "import numpy as np\n",
    "%matplotlib inline\n",
    "\n",
    "from scipy.stats import median_abs_deviation as MAD"
   ]
  },
  {
   "cell_type": "code",
   "execution_count": 62,
   "metadata": {},
   "outputs": [
    {
     "data": {
      "text/plain": [
       "[<matplotlib.lines.Line2D at 0x7f3f88a33f50>]"
      ]
     },
     "execution_count": 62,
     "metadata": {},
     "output_type": "execute_result"
    },
    {
     "data": {
      "image/png": "[encoded data removed]",
      "text/plain": [
       "<Figure size 432x288 with 1 Axes>"
      ]
     },
     "metadata": {
      "needs_background": "light"
     },
     "output_type": "display_data"
    }
   ],
   "source": [
    "x = np.arange(10)\n",
    "plt.plot(x,x**2)"
   ]
  },
  {
   "cell_type": "code",
   "execution_count": 44,
   "metadata": {},
   "outputs": [
    {
     "data": {
      "text/html": [
       "<i>Row index=24</i>\n",
       "<table id=\"table139911324324688\">\n",
       "<thead><tr><th>galid</th><th>filter_cor</th><th>CSAUTO</th><th>CONSCALE</th><th>CS2</th><th>CSByHand</th><th>CSnotes</th><th>No Ha</th><th>remove</th><th>bright star</th><th>bright galaxy</th><th>mask prob</th><th>interest ha</th><th>sky sub r</th><th>sky sub ha</th><th>poster worthy</th><th>comment</th></tr></thead>\n",
       "<thead><tr><th>str60</th><th>float64</th><th>float64</th><th>str4</th><th>float64</th><th>int64</th><th>str157</th><th>float64</th><th>float64</th><th>int64</th><th>float64</th><th>int64</th><th>int64</th><th>int64</th><th>int64</th><th>float64</th><th>str108</th></tr></thead>\n",
       "<tr><td>VFID0602-NGC5981-INT-20190530-p040</td><td>3.459</td><td>--</td><td>--</td><td>nan</td><td>1</td><td>oversubtraction; don&apos;t use b/c large filter correction</td><td>--</td><td>1.0</td><td>0</td><td>0.0</td><td>0</td><td>0</td><td>0</td><td>0</td><td>0.0</td><td>filter correction too high</td></tr>\n",
       "</table>"
      ],
      "text/plain": [
       "<Row index=24>\n",
       "              galid                filter_cor  CSAUTO CONSCALE   CS2   CSByHand                        CSnotes                          No Ha   remove bright star bright galaxy mask prob interest ha sky sub r sky sub ha poster worthy          comment          \n",
       "              str60                 float64   float64   str4   float64  int64                           str157                         float64 float64    int64       float64      int64      int64      int64     int64       float64              str108          \n",
       "---------------------------------- ---------- ------- -------- ------- -------- ------------------------------------------------------ ------- ------- ----------- ------------- --------- ----------- --------- ---------- ------------- --------------------------\n",
       "VFID0602-NGC5981-INT-20190530-p040      3.459      --       --     nan        1 oversubtraction; don't use b/c large filter correction      --     1.0           0           0.0         0           0         0          0           0.0 filter correction too high"
      ]
     },
     "execution_count": 44,
     "metadata": {},
     "output_type": "execute_result"
    }
   ],
   "source": [
    "hagals[24]"
   ]
  },
  {
   "cell_type": "code",
   "execution_count": 93,
   "metadata": {},
   "outputs": [
    {
     "name": "stdout",
     "output_type": "stream",
     "text": [
      "i   CS   OSUB  FILT  CS2\n",
      "---------------------------\n"
     ]
    }
   ],
   "source": [
    "%run ~/github/havirgo/python/parse_cs_factor.py"
   ]
  },
  {
   "cell_type": "code",
   "execution_count": 94,
   "metadata": {},
   "outputs": [
    {
     "data": {
      "text/plain": [
       "(532, 687)"
      ]
     },
     "execution_count": 94,
     "metadata": {},
     "output_type": "execute_result"
    }
   ],
   "source": [
    "np.sum(vhalpha['HAflag']), np.sum(vhalpha['HAobsflag'])"
   ]
  },
  {
   "cell_type": "code",
   "execution_count": 95,
   "metadata": {},
   "outputs": [
    {
     "name": "stdout",
     "output_type": "stream",
     "text": [
      "number w/newcs2 < 0.7 =  17\n",
      "number to remove =  65\n",
      "number to new2 < 0.7 and not remove =  7\n"
     ]
    },
    {
     "data": {
      "text/html": [
       "<div><i>Table length=7</i>\n",
       "<table id=\"table139911312012944\" class=\"table-striped table-bordered table-condensed\">\n",
       "<thead><tr><th>galid</th><th>filter_cor</th><th>CSAUTO</th><th>CONSCALE</th><th>CS2</th><th>CSByHand</th><th>CSnotes</th><th>No Ha</th><th>remove</th><th>bright star</th><th>bright galaxy</th><th>mask prob</th><th>interest ha</th><th>sky sub r</th><th>sky sub ha</th><th>poster worthy</th><th>comment</th></tr></thead>\n",
       "<thead><tr><th>str60</th><th>float64</th><th>float64</th><th>str4</th><th>float64</th><th>int64</th><th>str157</th><th>float64</th><th>float64</th><th>int64</th><th>float64</th><th>int64</th><th>int64</th><th>int64</th><th>int64</th><th>float64</th><th>str108</th></tr></thead>\n",
       "<tr><td>VFID0569-NGC5989-BOK-20220424-VFID0607</td><td>1.004</td><td>1.08</td><td>1</td><td>--</td><td>1</td><td>auto is oversubtracted</td><td>--</td><td>0.0</td><td>0</td><td>0.0</td><td>0</td><td>0</td><td>0</td><td>0</td><td>1.0</td><td>good poster child</td></tr>\n",
       "<tr><td>VFID0569-NGC5989-INT-20190530-p002</td><td>1.994</td><td>1.11</td><td>1</td><td>--</td><td>1</td><td>auto is oversubtracted</td><td>--</td><td>0.0</td><td>0</td><td>0.0</td><td>0</td><td>0</td><td>0</td><td>0</td><td>0.0</td><td>mask of duplicate is a little different; might be better cont sub</td></tr>\n",
       "<tr><td>VFID0602-NGC5981-BOK-20220424-VFID0607</td><td>1.007</td><td>1.04</td><td>1</td><td>--</td><td>1</td><td>auto is oversubtracted</td><td>--</td><td>0.0</td><td>0</td><td>0.0</td><td>0</td><td>0</td><td>0</td><td>0</td><td>0.0</td><td>probably not real detection; check again after doing color based continuum subtraction</td></tr>\n",
       "<tr><td>VFID0610-NGC5985-BOK-20220424-VFID0607</td><td>1.007</td><td>1.08</td><td>1.05</td><td>--</td><td>1</td><td>auto is oversubtracted in center</td><td>--</td><td>0.0</td><td>0</td><td>0.0</td><td>0</td><td>0</td><td>0</td><td>0</td><td>0.0</td><td>could be some contamination from a bright star to the N</td></tr>\n",
       "<tr><td>VFID1899-NGC4143-BOK-20210414-VFID1901</td><td>1.535</td><td>1.01</td><td>1.01</td><td>--</td><td>0</td><td>point source at center probably AGN</td><td>--</td><td>0.0</td><td>0</td><td>0.0</td><td>0</td><td>0</td><td>0</td><td>0</td><td>0.0</td><td>no halpha</td></tr>\n",
       "<tr><td>VFID1957-WISEAJ134414.89+414037.6-BOK-20220425-VFID1979</td><td>1.012</td><td>0.95</td><td>1</td><td>--</td><td>1</td><td>very difficult to tell; images on webpage don&apos;t look like ones on disk</td><td>--</td><td>0.0</td><td>0</td><td>0.0</td><td>0</td><td>0</td><td>0</td><td>0</td><td>0.0</td><td>--</td></tr>\n",
       "<tr><td>VFID3120-LSBCD508-01-BOK-20220424-VFID3119</td><td>1.007</td><td>0.8</td><td>3</td><td>--</td><td>--</td><td>something is off - can&apos;t get subtraction to go to zero; maybe redshift is wrong?</td><td>--</td><td>0.5</td><td>0</td><td>0.0</td><td>0</td><td>0</td><td>0</td><td>0</td><td>0.0</td><td>--</td></tr>\n",
       "</table></div>"
      ],
      "text/plain": [
       "<Table length=7>\n",
       "                         galid                          ...\n",
       "                         str60                          ...\n",
       "------------------------------------------------------- ...\n",
       "                 VFID0569-NGC5989-BOK-20220424-VFID0607 ...\n",
       "                     VFID0569-NGC5989-INT-20190530-p002 ...\n",
       "                 VFID0602-NGC5981-BOK-20220424-VFID0607 ...\n",
       "                 VFID0610-NGC5985-BOK-20220424-VFID0607 ...\n",
       "                 VFID1899-NGC4143-BOK-20210414-VFID1901 ...\n",
       "VFID1957-WISEAJ134414.89+414037.6-BOK-20220425-VFID1979 ...\n",
       "             VFID3120-LSBCD508-01-BOK-20220424-VFID3119 ..."
      ]
     },
     "execution_count": 95,
     "metadata": {},
     "output_type": "execute_result"
    }
   ],
   "source": [
    "wth_flag = newcs2 < .7\n",
    "print(\"number w/newcs2 < 0.7 = \",np.sum(wth_flag))\n",
    "\n",
    "remove_flag = hagals['remove'] == 1\n",
    "print(\"number to remove = \",np.sum(remove_flag))\n",
    "\n",
    "\n",
    "print(\"number to new2 < 0.7 and not remove = \",np.sum(wth_flag & ~remove_flag))\n",
    "\n",
    "hagals[wth_flag & ~remove_flag]"
   ]
  },
  {
   "cell_type": "code",
   "execution_count": 100,
   "metadata": {},
   "outputs": [
    {
     "name": "stdout",
     "output_type": "stream",
     "text": [
      "{'MOS', 'BOK', 'HDI', 'INT'}\n",
      "number observed with MOS = 95\n",
      "\t median = 0.970 +/- 0.027\n",
      "number observed with BOK = 317\n",
      "\t median = 0.923 +/- 0.112\n",
      "number observed with HDI = 105\n",
      "\t median = 0.936 +/- 0.031\n",
      "number observed with INT = 350\n",
      "\t median = 0.900 +/- 0.088\n"
     ]
    },
    {
     "data": {
      "text/plain": [
       "Text(0.5, 0, 'Continuum Scale Factor')"
      ]
     },
     "execution_count": 100,
     "metadata": {},
     "output_type": "execute_result"
    },
    {
     "data": {
      "image/png": "[encoded data removed]",
      "text/plain": [
       "<Figure size 720x576 with 1 Axes>"
      ]
     },
     "metadata": {
      "needs_background": "light"
     },
     "output_type": "display_data"
    }
   ],
   "source": [
    "tels = set(alltelescope)\n",
    "print(tels)\n",
    "plt.figure(figsize=(10,8))\n",
    "mybins = np.linspace(.7,1.1,20)\n",
    "for t in tels:\n",
    "    flag = alltelescope == t\n",
    "    print(f\"number observed with {t} = {np.sum(flag)}\")\n",
    "    plt.hist(newcs2[flag],label=t,alpha=.4,bins=mybins)\n",
    "    # get median and MAD\n",
    "    print(f\"\\t median = {np.nanmedian(newcs2[flag]):.3f} +/- {np.std(newcs2[flag]):.3f}\")\n",
    "plt.legend()\n",
    "plt.xlabel(\"Continuum Scale Factor\", fontsize=16)"
   ]
  },
  {
   "cell_type": "code",
   "execution_count": 65,
   "metadata": {},
   "outputs": [
    {
     "data": {
      "text/plain": [
       "False"
      ]
     },
     "execution_count": 65,
     "metadata": {},
     "output_type": "execute_result"
    }
   ],
   "source": [
    "alltelescope == 'BOK'"
   ]
  },
  {
   "cell_type": "code",
   "execution_count": 78,
   "metadata": {},
   "outputs": [
    {
     "data": {
      "text/html": [
       "<div><i>Table length=7</i>\n",
       "<table id=\"table139910876369360\" class=\"table-striped table-bordered table-condensed\">\n",
       "<thead><tr><th>galid</th><th>filter_cor</th><th>CSAUTO</th><th>CONSCALE</th><th>CS2</th><th>CSByHand</th><th>CSnotes</th><th>No Ha</th><th>remove</th><th>bright star</th><th>bright galaxy</th><th>mask prob</th><th>interest ha</th><th>sky sub r</th><th>sky sub ha</th><th>poster worthy</th><th>comment</th></tr></thead>\n",
       "<thead><tr><th>str60</th><th>float64</th><th>float64</th><th>str4</th><th>float64</th><th>int64</th><th>str157</th><th>float64</th><th>float64</th><th>int64</th><th>float64</th><th>int64</th><th>int64</th><th>int64</th><th>int64</th><th>float64</th><th>str108</th></tr></thead>\n",
       "<tr><td>VFID0569-NGC5989-BOK-20220424-VFID0607</td><td>1.004</td><td>1.08</td><td>1</td><td>--</td><td>1</td><td>auto is oversubtracted</td><td>--</td><td>0.0</td><td>0</td><td>0.0</td><td>0</td><td>0</td><td>0</td><td>0</td><td>1.0</td><td>good poster child</td></tr>\n",
       "<tr><td>VFID0569-NGC5989-INT-20190530-p002</td><td>1.994</td><td>1.11</td><td>1</td><td>--</td><td>1</td><td>auto is oversubtracted</td><td>--</td><td>0.0</td><td>0</td><td>0.0</td><td>0</td><td>0</td><td>0</td><td>0</td><td>0.0</td><td>mask of duplicate is a little different; might be better cont sub</td></tr>\n",
       "<tr><td>VFID0602-NGC5981-BOK-20220424-VFID0607</td><td>1.007</td><td>1.04</td><td>1</td><td>--</td><td>1</td><td>auto is oversubtracted</td><td>--</td><td>0.0</td><td>0</td><td>0.0</td><td>0</td><td>0</td><td>0</td><td>0</td><td>0.0</td><td>probably not real detection; check again after doing color based continuum subtraction</td></tr>\n",
       "<tr><td>VFID0610-NGC5985-BOK-20220424-VFID0607</td><td>1.007</td><td>1.08</td><td>1.05</td><td>--</td><td>1</td><td>auto is oversubtracted in center</td><td>--</td><td>0.0</td><td>0</td><td>0.0</td><td>0</td><td>0</td><td>0</td><td>0</td><td>0.0</td><td>could be some contamination from a bright star to the N</td></tr>\n",
       "<tr><td>VFID1899-NGC4143-BOK-20210414-VFID1901</td><td>1.535</td><td>1.01</td><td>1.01</td><td>--</td><td>0</td><td>point source at center probably AGN</td><td>--</td><td>0.0</td><td>0</td><td>0.0</td><td>0</td><td>0</td><td>0</td><td>0</td><td>0.0</td><td>no halpha</td></tr>\n",
       "<tr><td>VFID1957-WISEAJ134414.89+414037.6-BOK-20220425-VFID1979</td><td>1.012</td><td>0.95</td><td>1</td><td>--</td><td>1</td><td>very difficult to tell; images on webpage don&apos;t look like ones on disk</td><td>--</td><td>0.0</td><td>0</td><td>0.0</td><td>0</td><td>0</td><td>0</td><td>0</td><td>0.0</td><td>--</td></tr>\n",
       "<tr><td>VFID3120-LSBCD508-01-BOK-20220424-VFID3119</td><td>1.007</td><td>0.8</td><td>3</td><td>--</td><td>--</td><td>something is off - can&apos;t get subtraction to go to zero; maybe redshift is wrong?</td><td>--</td><td>0.5</td><td>0</td><td>0.0</td><td>0</td><td>0</td><td>0</td><td>0</td><td>0.0</td><td>--</td></tr>\n",
       "</table></div>"
      ],
      "text/plain": [
       "<Table length=7>\n",
       "                         galid                          ...\n",
       "                         str60                          ...\n",
       "------------------------------------------------------- ...\n",
       "                 VFID0569-NGC5989-BOK-20220424-VFID0607 ...\n",
       "                     VFID0569-NGC5989-INT-20190530-p002 ...\n",
       "                 VFID0602-NGC5981-BOK-20220424-VFID0607 ...\n",
       "                 VFID0610-NGC5985-BOK-20220424-VFID0607 ...\n",
       "                 VFID1899-NGC4143-BOK-20210414-VFID1901 ...\n",
       "VFID1957-WISEAJ134414.89+414037.6-BOK-20220425-VFID1979 ...\n",
       "             VFID3120-LSBCD508-01-BOK-20220424-VFID3119 ..."
      ]
     },
     "execution_count": 78,
     "metadata": {},
     "output_type": "execute_result"
    }
   ],
   "source": []
  },
  {
   "cell_type": "code",
   "execution_count": null,
   "metadata": {},
   "outputs": [],
   "source": []
  }
 ],
 "metadata": {
  "kernelspec": {
   "display_name": "Python 3",
   "language": "python",
   "name": "python3"
  },
  "language_info": {
   "codemirror_mode": {
    "name": "ipython",
    "version": 3
   },
   "file_extension": ".py",
   "mimetype": "text/x-python",
   "name": "python",
   "nbconvert_exporter": "python",
   "pygments_lexer": "ipython3",
   "version": "3.7.4"
  }
 },
 "nbformat": 4,
 "nbformat_minor": 4
}
